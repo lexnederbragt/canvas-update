{
 "cells": [
  {
   "cell_type": "markdown",
   "metadata": {},
   "source": [
    "## TODO\n",
    "* implement argparse"
   ]
  },
  {
   "cell_type": "code",
   "execution_count": 1,
   "metadata": {},
   "outputs": [],
   "source": [
    "import os, sys\n",
    "import configparser\n",
    "# Import the Canvas class\n",
    "from canvasapi import Canvas\n",
    "from canvasapi import page"
   ]
  },
  {
   "cell_type": "code",
   "execution_count": 2,
   "metadata": {},
   "outputs": [],
   "source": [
    "canvas_instance = 'uio'\n",
    "course_code = 'bios1100'\n",
    "html_to_send = 'api_test.html'\n",
    "title_for_page = 'Testing Canvas API'\n",
    "# canvas uses the page title in lower case with dashes for spaces as url for the page\n",
    "url_for_page = title_for_page.lower().replace(' ','-')"
   ]
  },
  {
   "cell_type": "code",
   "execution_count": 3,
   "metadata": {},
   "outputs": [],
   "source": [
    "# load config file\n",
    "config = configparser.ConfigParser()\n",
    "\n",
    "config_file = '~/.config/canvasapi.conf'\n",
    "\n",
    "result = config.read(os.path.expanduser(config_file))\n",
    "if result == []:\n",
    "    sys.exit(\"Error: could not open config file or config file was empty or malformed: \" + config_file)"
   ]
  },
  {
   "cell_type": "code",
   "execution_count": 4,
   "metadata": {},
   "outputs": [],
   "source": [
    "# Canvas API URL\n",
    "try:\n",
    "    API_URL = config['api_url'][canvas_instance]\n",
    "except KeyError:\n",
    "    print(\"Error: could not find the entry for Canvas instance '%s' in the 'api_url' section of the config file.\" %canvas_instance)\n",
    "\n",
    "# Course ID\n",
    "try:\n",
    "    course_id = config[course_code]['course_id']\n",
    "except KeyError:\n",
    "    print(\"Error: could not find the 'api-key' entry in for course code '%s' in the 'courses' section of the config file.\" %course_code)\n",
    "\n",
    "# Canvas API key\n",
    "try:\n",
    "    API_KEY = config[course_code]['api_key']\n",
    "except KeyError:\n",
    "    print(\"Error: could not find the 'api-key' entry for course code '%s' in the 'courses' section of the config file.\" %course_code)\n"
   ]
  },
  {
   "cell_type": "code",
   "execution_count": 5,
   "metadata": {},
   "outputs": [
    {
     "data": {
      "text/plain": [
       "'BIOS1100-1 18H Innføring i beregningsmodeller for biovitenskap'"
      ]
     },
     "execution_count": 5,
     "metadata": {},
     "output_type": "execute_result"
    }
   ],
   "source": [
    "# Initialize a new Canvas object\n",
    "canvas = Canvas(API_URL, API_KEY)\n",
    "\n",
    "# get the course\n",
    "course = canvas.get_course(course_id)\n",
    "course.name"
   ]
  },
  {
   "cell_type": "code",
   "execution_count": 30,
   "metadata": {},
   "outputs": [],
   "source": [
    "# read new content\n",
    "with open(html_to_send, 'r') as html_file:\n",
    "    html_content = html_file.read()#.replace('\\n', '')\n",
    "\n",
    "# get the course page\n",
    "try:\n",
    "    test_page = course.get_page(url_for_page)\n",
    "except:\n",
    "    sys.exit(\"Error: could not find page '%s' on Canvas for updating.\" % url_for_page)\n",
    "\n",
    "# update the course page\n",
    "#api_call_result = test_page.edit(wiki_page = {\"title\":title_for_page, \"body\":html_content})"
   ]
  },
  {
   "cell_type": "code",
   "execution_count": 31,
   "metadata": {},
   "outputs": [
    {
     "data": {
      "text/plain": [
       "['<h1 id=\"dette-er-en-test\">Dette er en test</h1>', '<p>Versjon 12.</p>']"
      ]
     },
     "execution_count": 31,
     "metadata": {},
     "output_type": "execute_result"
    }
   ],
   "source": [
    "html_content.split(\"\\n\")[:-1]"
   ]
  },
  {
   "cell_type": "code",
   "execution_count": 32,
   "metadata": {},
   "outputs": [
    {
     "data": {
      "text/plain": [
       "['<h1 id=\"dette-er-en-test\">Dette er en test</h1>', '<p>Versjon 12.</p>']"
      ]
     },
     "execution_count": 32,
     "metadata": {},
     "output_type": "execute_result"
    }
   ],
   "source": [
    "test_page.body.split(\"\\n\")[:-1]"
   ]
  },
  {
   "cell_type": "code",
   "execution_count": 33,
   "metadata": {},
   "outputs": [
    {
     "data": {
      "text/plain": [
       "True"
      ]
     },
     "execution_count": 33,
     "metadata": {},
     "output_type": "execute_result"
    }
   ],
   "source": [
    "test_page.body.split(\"\\n\")[:-1] == html_content.split(\"\\n\")[:-1]"
   ]
  },
  {
   "cell_type": "code",
   "execution_count": 7,
   "metadata": {},
   "outputs": [
    {
     "data": {
      "text/plain": [
       "True"
      ]
     },
     "execution_count": 7,
     "metadata": {},
     "output_type": "execute_result"
    }
   ],
   "source": [
    "# testing whether the update has happened\n",
    "# in which case the first part of the api_call_result is the updated html\n",
    "html_content in api_call_result.body"
   ]
  },
  {
   "cell_type": "code",
   "execution_count": 8,
   "metadata": {},
   "outputs": [
    {
     "ename": "SystemExit",
     "evalue": "Do not run below",
     "output_type": "error",
     "traceback": [
      "An exception has occurred, use %tb to see the full traceback.\n",
      "\u001b[0;31mSystemExit\u001b[0m\u001b[0;31m:\u001b[0m Do not run below\n"
     ]
    },
    {
     "name": "stderr",
     "output_type": "stream",
     "text": [
      "/anaconda3/lib/python3.6/site-packages/IPython/core/interactiveshell.py:2918: UserWarning: To exit: use 'exit', 'quit', or Ctrl-D.\n",
      "  warn(\"To exit: use 'exit', 'quit', or Ctrl-D.\", stacklevel=1)\n"
     ]
    }
   ],
   "source": [
    "sys.exit('Do not run below')"
   ]
  },
  {
   "cell_type": "code",
   "execution_count": null,
   "metadata": {},
   "outputs": [],
   "source": [
    "test_page = course.get_page('test2')"
   ]
  },
  {
   "cell_type": "code",
   "execution_count": null,
   "metadata": {},
   "outputs": [],
   "source": [
    "course.create_page({\"title\":\"api_test\", \"body\":\"Test vellykket\"})"
   ]
  },
  {
   "cell_type": "code",
   "execution_count": null,
   "metadata": {},
   "outputs": [],
   "source": [
    "test_page = course.get_page('api_test')"
   ]
  },
  {
   "cell_type": "code",
   "execution_count": null,
   "metadata": {},
   "outputs": [],
   "source": [
    "test_page.body"
   ]
  },
  {
   "cell_type": "code",
   "execution_count": null,
   "metadata": {},
   "outputs": [],
   "source": [
    "test_page.edit(wiki_page = {\"body\": \"Tekst endret\"})"
   ]
  },
  {
   "cell_type": "code",
   "execution_count": null,
   "metadata": {},
   "outputs": [],
   "source": [
    "test_page = course.get_page('api_test')\n",
    "test_page.body"
   ]
  }
 ],
 "metadata": {
  "kernelspec": {
   "display_name": "Python 3",
   "language": "python",
   "name": "python3"
  },
  "language_info": {
   "codemirror_mode": {
    "name": "ipython",
    "version": 3
   },
   "file_extension": ".py",
   "mimetype": "text/x-python",
   "name": "python",
   "nbconvert_exporter": "python",
   "pygments_lexer": "ipython3",
   "version": "3.6.4"
  }
 },
 "nbformat": 4,
 "nbformat_minor": 2
}
