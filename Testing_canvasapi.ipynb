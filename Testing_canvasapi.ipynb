{
 "cells": [
  {
   "cell_type": "markdown",
   "metadata": {},
   "source": [
    "## Resources\n",
    "\n",
    "* https://canvasapi.readthedocs.io\n",
    "* https://canvas.instructure.com/doc/api/"
   ]
  },
  {
   "cell_type": "markdown",
   "metadata": {},
   "source": [
    "# Importing from canvas-update"
   ]
  },
  {
   "cell_type": "code",
   "execution_count": 7,
   "metadata": {},
   "outputs": [],
   "source": [
    "from api import get_course, split_folder_url, find_folder"
   ]
  },
  {
   "cell_type": "code",
   "execution_count": 26,
   "metadata": {},
   "outputs": [],
   "source": [
    "config_file = '~/.config/canvasapi.conf'\n",
    "url = 'https://uio.instructure.com/courses/4258/files/folder/quizzes'\n",
    "\n",
    "API_URL, course_id, folder_name = split_folder_url(url)\n",
    "course =  get_course(API_URL, course_id, config_file)\n",
    "\n",
    "# find the folder\n",
    "folder = find_folder(course, folder_name)\n",
    "if not folder:\n",
    "    sys.exit(\"Could not find folder '%s'. Full url: %s\" %(folder_name, url))\n"
   ]
  },
  {
   "cell_type": "code",
   "execution_count": 27,
   "metadata": {},
   "outputs": [
    {
     "name": "stdout",
     "output_type": "stream",
     "text": [
      "Uke 1 5248 https://uio.instructure.com/api/v1/courses/4258/modules/5248/items\n",
      "Uke 2 5254 https://uio.instructure.com/api/v1/courses/4258/modules/5254/items\n"
     ]
    }
   ],
   "source": [
    "for module in course.get_modules():\n",
    "    print(module.name, module.id, module.items_url)"
   ]
  },
  {
   "cell_type": "code",
   "execution_count": 33,
   "metadata": {},
   "outputs": [
    {
     "data": {
      "text/plain": [
       "Page(_requester=<canvasapi.requester.Requester object at 0x110fd60f0>, title=Testing creating a page, created_at=2019-09-13T18:14:09Z, created_at_date=2019-09-13 18:14:09+00:00, url=testing-creating-a-page, editing_roles=teachers, page_id=66357, last_edited_by={'id': 13657, 'display_name': 'Lex Nederbragt', 'avatar_image_url': 'https://uio.instructure.com/images/thumbnails/78465/9BZV9zaPiqdGS9vTMuzF7sAzpR3UM27Ku1XrpXLH', 'html_url': 'https://uio.instructure.com/courses/4258/users/13657'}, published=False, hide_from_students=True, front_page=False, html_url=https://uio.instructure.com/courses/4258/pages/testing-creating-a-page, todo_date=None, updated_at=2019-09-13T18:14:09Z, updated_at_date=2019-09-13 18:14:09+00:00, locked_for_user=False, body=<h1 id=\"dette-er-en-test\">Dette er en test</h1><p>Versjon 1.</p>, course_id=4258)"
      ]
     },
     "execution_count": 33,
     "metadata": {},
     "output_type": "execute_result"
    }
   ],
   "source": [
    "course.create_page(wiki_page = {\"title\":\"Testing creating a page\", \\\n",
    "                                \"body\":'<h1 id=\"dette-er-en-test\">Dette er en test</h1><p>Versjon 1.</p>'}\n",
    "                  )"
   ]
  },
  {
   "cell_type": "code",
   "execution_count": 62,
   "metadata": {},
   "outputs": [
    {
     "name": "stdout",
     "output_type": "stream",
     "text": [
      "https://canvas.instance.com 12345 pages/page_name\n"
     ]
    }
   ],
   "source": [
    "url = 'https://canvas.instance.com/courses/12345/pages/page_name'\n",
    "none, API_URL, course_id, rest, none = re.split(r'(.*)/courses/(\\d*)/(.*)', url)\n",
    "print(API_URL, course_id, rest)\n",
    "#url = 'https://canvas.instance.com/courses/12345/files/folder/folder_name'\n",
    "#none, API_URL, course_id, rest, none = re.split(r'(.*)/courses/(\\d*)/(.*)', url)\n",
    "#print(API_URL, course_id, rest)"
   ]
  },
  {
   "cell_type": "code",
   "execution_count": 63,
   "metadata": {},
   "outputs": [
    {
     "name": "stdout",
     "output_type": "stream",
     "text": [
      "page page_name\n"
     ]
    }
   ],
   "source": [
    "if rest.startswith('pages'):\n",
    "    url_type = 'page'\n",
    "    item_name = re.sub(r'^pages/', '', rest)\n",
    "elif rest.startswith('files/folder'):\n",
    "    url_type = 'folder'\n",
    "    item_name = re.sub(r'^files/folder/', '', rest)\n",
    "print(url_type, item_name)"
   ]
  },
  {
   "cell_type": "code",
   "execution_count": 51,
   "metadata": {},
   "outputs": [
    {
     "name": "stdout",
     "output_type": "stream",
     "text": [
      "The autoreload extension is already loaded. To reload it, use:\n",
      "  %reload_ext autoreload\n"
     ]
    }
   ],
   "source": [
    "import api\n",
    "%load_ext autoreload"
   ]
  },
  {
   "cell_type": "code",
   "execution_count": 71,
   "metadata": {},
   "outputs": [
    {
     "name": "stdout",
     "output_type": "stream",
     "text": [
      "('https://canvas.instance.com', '12345', 'folder', 'folder_name')\n"
     ]
    }
   ],
   "source": [
    "%autoreload 2\n",
    "url = 'https://canvas.instance.com/courses/12345/pages/page_name'\n",
    "url = 'https://canvas.instance.com/courses/12345/files/folder/folder_name'\n",
    "#url = 'https://canvas.instance.com/courses/12345/age/folder_name'\n",
    "result = api.split_url(url)\n",
    "print(result)"
   ]
  },
  {
   "cell_type": "markdown",
   "metadata": {},
   "source": [
    "------------"
   ]
  },
  {
   "cell_type": "markdown",
   "metadata": {},
   "source": [
    "## Without importing from canvas-update"
   ]
  },
  {
   "cell_type": "code",
   "execution_count": 2,
   "metadata": {},
   "outputs": [],
   "source": [
    "import os, sys\n",
    "import configparser\n",
    "# Import the Canvas class\n",
    "from canvasapi import Canvas\n",
    "from canvasapi import page\n",
    "import re"
   ]
  },
  {
   "cell_type": "code",
   "execution_count": 3,
   "metadata": {},
   "outputs": [
    {
     "name": "stdout",
     "output_type": "stream",
     "text": [
      "https://uio.instructure.com 5848 testing-canvas-api\n"
     ]
    }
   ],
   "source": [
    "url = 'https://uio.instructure.com/courses/5848/pages/testing-canvas-api'\n",
    "none, API_URL, course_id, url_for_page, none = re.split('(.*)/courses/(.*)/pages/(.*)', url)\n",
    "print(API_URL, course_id, url_for_page)"
   ]
  },
  {
   "cell_type": "code",
   "execution_count": 4,
   "metadata": {},
   "outputs": [],
   "source": [
    "canvas_instance = 'uio'\n",
    "course_code = 'bios1100'\n",
    "html_to_send = 'api_test.html'\n",
    "title_for_page = 'Testing Canvas API'\n",
    "# canvas uses the page title in lower case with dashes for spaces as url for the page\n",
    "url_for_page = title_for_page.lower().replace(' ','-')"
   ]
  },
  {
   "cell_type": "code",
   "execution_count": 5,
   "metadata": {},
   "outputs": [],
   "source": [
    "# load config file\n",
    "config = configparser.ConfigParser()\n",
    "\n",
    "config_file = '~/.config/canvasapi.conf'\n",
    "\n",
    "result = config.read(os.path.expanduser(config_file))\n",
    "if result == []:\n",
    "    sys.exit(\"Error: could not open config file or config file was empty or malformed: \" + config_file)"
   ]
  },
  {
   "cell_type": "code",
   "execution_count": 5,
   "metadata": {},
   "outputs": [
    {
     "name": "stdout",
     "output_type": "stream",
     "text": [
      "Error: could not find the entry for Canvas instance 'uio' in the 'api_url' section of the config file.\n",
      "Error: could not find the 'api-key' entry in for course code 'bios1100' in the 'courses' section of the config file.\n",
      "Error: could not find the 'api-key' entry for course code 'bios1100' in the 'courses' section of the config file.\n"
     ]
    }
   ],
   "source": [
    "# Canvas API URL\n",
    "try:\n",
    "    API_URL = config['api_url'][canvas_instance]\n",
    "except KeyError:\n",
    "    print(\"Error: could not find the entry for Canvas instance '%s' in the 'api_url' section of the config file.\" %canvas_instance)\n",
    "\n",
    "# Course ID\n",
    "try:\n",
    "    course_id = config[course_code]['course_id']\n",
    "except KeyError:\n",
    "    print(\"Error: could not find the 'api-key' entry in for course code '%s' in the 'courses' section of the config file.\" %course_code)\n",
    "\n",
    "# Canvas API key\n",
    "try:\n",
    "    API_KEY = config[course_code]['api_key']\n",
    "except KeyError:\n",
    "    print(\"Error: could not find the 'api-key' entry for course code '%s' in the 'courses' section of the config file.\" %course_code)\n"
   ]
  },
  {
   "cell_type": "code",
   "execution_count": 5,
   "metadata": {},
   "outputs": [
    {
     "data": {
      "text/plain": [
       "'BIOS1100-1 18H Innføring i beregningsmodeller for biovitenskap'"
      ]
     },
     "execution_count": 5,
     "metadata": {},
     "output_type": "execute_result"
    }
   ],
   "source": [
    "# Initialize a new Canvas object\n",
    "canvas = Canvas(API_URL, API_KEY)\n",
    "\n",
    "# get the course\n",
    "course = canvas.get_course(API_URL, course_id, config_file)\n",
    "course.name"
   ]
  },
  {
   "cell_type": "code",
   "execution_count": 30,
   "metadata": {},
   "outputs": [],
   "source": [
    "# read new content\n",
    "with open(html_to_send, 'r') as html_file:\n",
    "    html_content = html_file.read()#.replace('\\n', '')\n",
    "\n",
    "# get the course page\n",
    "try:\n",
    "    test_page = course.get_page(url_for_page)\n",
    "except:\n",
    "    sys.exit(\"Error: could not find page '%s' on Canvas for updating.\" % url_for_page)\n",
    "\n",
    "# update the course page\n",
    "#api_call_result = test_page.edit(wiki_page = {\"title\":title_for_page, \"body\":html_content})"
   ]
  },
  {
   "cell_type": "code",
   "execution_count": 31,
   "metadata": {},
   "outputs": [
    {
     "data": {
      "text/plain": [
       "['<h1 id=\"dette-er-en-test\">Dette er en test</h1>', '<p>Versjon 12.</p>']"
      ]
     },
     "execution_count": 31,
     "metadata": {},
     "output_type": "execute_result"
    }
   ],
   "source": [
    "html_content.split(\"\\n\")[:-1]"
   ]
  },
  {
   "cell_type": "code",
   "execution_count": 32,
   "metadata": {},
   "outputs": [
    {
     "data": {
      "text/plain": [
       "['<h1 id=\"dette-er-en-test\">Dette er en test</h1>', '<p>Versjon 12.</p>']"
      ]
     },
     "execution_count": 32,
     "metadata": {},
     "output_type": "execute_result"
    }
   ],
   "source": [
    "test_page.body.split(\"\\n\")[:-1]"
   ]
  },
  {
   "cell_type": "code",
   "execution_count": 33,
   "metadata": {},
   "outputs": [
    {
     "data": {
      "text/plain": [
       "True"
      ]
     },
     "execution_count": 33,
     "metadata": {},
     "output_type": "execute_result"
    }
   ],
   "source": [
    "test_page.body.split(\"\\n\")[:-1] == html_content.split(\"\\n\")[:-1]"
   ]
  },
  {
   "cell_type": "code",
   "execution_count": 7,
   "metadata": {},
   "outputs": [
    {
     "data": {
      "text/plain": [
       "True"
      ]
     },
     "execution_count": 7,
     "metadata": {},
     "output_type": "execute_result"
    }
   ],
   "source": [
    "# testing whether the update has happened\n",
    "# in which case the first part of the api_call_result is the updated html\n",
    "html_content in api_call_result.body"
   ]
  },
  {
   "cell_type": "code",
   "execution_count": 8,
   "metadata": {},
   "outputs": [
    {
     "ename": "SystemExit",
     "evalue": "Do not run below",
     "output_type": "error",
     "traceback": [
      "An exception has occurred, use %tb to see the full traceback.\n",
      "\u001b[0;31mSystemExit\u001b[0m\u001b[0;31m:\u001b[0m Do not run below\n"
     ]
    },
    {
     "name": "stderr",
     "output_type": "stream",
     "text": [
      "/anaconda3/lib/python3.6/site-packages/IPython/core/interactiveshell.py:2918: UserWarning: To exit: use 'exit', 'quit', or Ctrl-D.\n",
      "  warn(\"To exit: use 'exit', 'quit', or Ctrl-D.\", stacklevel=1)\n"
     ]
    }
   ],
   "source": [
    "sys.exit('Do not run below')"
   ]
  },
  {
   "cell_type": "code",
   "execution_count": null,
   "metadata": {},
   "outputs": [],
   "source": [
    "test_page = course.get_page('test2')"
   ]
  },
  {
   "cell_type": "code",
   "execution_count": null,
   "metadata": {},
   "outputs": [],
   "source": [
    "course.create_page({\"title\":\"api_test\", \"body\":\"Test vellykket\"})"
   ]
  },
  {
   "cell_type": "code",
   "execution_count": null,
   "metadata": {},
   "outputs": [],
   "source": [
    "test_page = course.get_page('api_test')"
   ]
  },
  {
   "cell_type": "code",
   "execution_count": null,
   "metadata": {},
   "outputs": [],
   "source": [
    "test_page.body"
   ]
  },
  {
   "cell_type": "code",
   "execution_count": null,
   "metadata": {},
   "outputs": [],
   "source": [
    "test_page.edit(wiki_page = {\"body\": \"Tekst endret\"})"
   ]
  },
  {
   "cell_type": "code",
   "execution_count": null,
   "metadata": {},
   "outputs": [],
   "source": [
    "test_page = course.get_page('api_test')\n",
    "test_page.body"
   ]
  }
 ],
 "metadata": {
  "kernelspec": {
   "display_name": "Python 3",
   "language": "python",
   "name": "python3"
  },
  "language_info": {
   "codemirror_mode": {
    "name": "ipython",
    "version": 3
   },
   "file_extension": ".py",
   "mimetype": "text/x-python",
   "name": "python",
   "nbconvert_exporter": "python",
   "pygments_lexer": "ipython3",
   "version": "3.6.8"
  }
 },
 "nbformat": 4,
 "nbformat_minor": 2
}
