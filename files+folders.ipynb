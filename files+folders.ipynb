{
 "cells": [
  {
   "cell_type": "code",
   "execution_count": 3,
   "metadata": {},
   "outputs": [],
   "source": [
    "from api import get_course, split_page_url"
   ]
  },
  {
   "cell_type": "code",
   "execution_count": 7,
   "metadata": {},
   "outputs": [],
   "source": [
    "url = 'https://uio.instructure.com/courses/5848/pages/testing-canvas-api'\n",
    "url = 'https://uio.instructure.com/courses/4258/pages/jupyter-notebook-og-jupyterhub'\n",
    "API_URL, course_id, page_name = split_page_url(url)\n",
    "\n",
    "config_file = '/Users/alexajo/.config/canvasapi.conf'\n",
    "course =  get_course(API_URL, course_id, config_file)"
   ]
  },
  {
   "cell_type": "code",
   "execution_count": 8,
   "metadata": {},
   "outputs": [
    {
     "name": "stdout",
     "output_type": "stream",
     "text": [
      "course files\n",
      "course files/course_image\n",
      "course files/Quiz Files\n",
      "course files/quizzes\n",
      "course files/Quiz Files/test_1105/quizzes\n",
      "course files/test\n",
      "course files/Quiz Files/test_1105\n"
     ]
    }
   ],
   "source": [
    "for f in course.get_folders():\n",
    "    print(f)"
   ]
  },
  {
   "cell_type": "code",
   "execution_count": 9,
   "metadata": {},
   "outputs": [
    {
     "data": {
      "text/plain": [
       "(Folder(_requester=<canvasapi.requester.Requester object at 0x1115c4908>, id=32009, name=course_image, full_name=course files/course_image, context_id=4258, context_type=Course, parent_folder_id=31992, created_at=2018-04-26T08:40:53Z, created_at_date=2018-04-26 08:40:53+00:00, updated_at=2018-06-25T14:08:12Z, updated_at_date=2018-06-25 14:08:12+00:00, lock_at=None, unlock_at=None, position=1, locked=False, folders_url=https://uio.instructure.com/api/v1/folders/32009/folders, files_url=https://uio.instructure.com/api/v1/folders/32009/files, files_count=1, folders_count=0, hidden=None, locked_for_user=False, hidden_for_user=False, for_submissions=False, can_upload=True),\n",
       " Folder(_requester=<canvasapi.requester.Requester object at 0x1115c4908>, id=32009, name=course_image, full_name=course files/course_image, context_id=4258, context_type=Course, parent_folder_id=31992, created_at=2018-04-26T08:40:53Z, created_at_date=2018-04-26 08:40:53+00:00, updated_at=2018-06-25T14:08:12Z, updated_at_date=2018-06-25 14:08:12+00:00, lock_at=None, unlock_at=None, position=1, locked=False, folders_url=https://uio.instructure.com/api/v1/folders/32009/folders, files_url=https://uio.instructure.com/api/v1/folders/32009/files, files_count=1, folders_count=0, hidden=None, locked_for_user=False, hidden_for_user=False, for_submissions=False, can_upload=True))"
      ]
     },
     "execution_count": 9,
     "metadata": {},
     "output_type": "execute_result"
    }
   ],
   "source": [
    "f = course.get_folders()[0]\n",
    "f2 = f = course.get_folders()[1]\n",
    "f, f2"
   ]
  },
  {
   "cell_type": "code",
   "execution_count": 10,
   "metadata": {},
   "outputs": [
    {
     "name": "stdout",
     "output_type": "stream",
     "text": [
      "07.groupslides_5.png\n",
      "07.groupslides_5.png\n",
      "godfather1.jpg\n",
      "kurs-forside.png\n",
      "LogoUIO.JPG\n",
      "topics.png\n",
      "undervisningsplan.pdf\n"
     ]
    }
   ],
   "source": [
    "for f in course.get_files(): print(f)"
   ]
  },
  {
   "cell_type": "code",
   "execution_count": 11,
   "metadata": {},
   "outputs": [
    {
     "name": "stdout",
     "output_type": "stream",
     "text": [
      "course files\n",
      "course files/course_image\n",
      "course files/Quiz Files\n",
      "course files/quizzes\n",
      "course files/Quiz Files/test_1105/quizzes\n",
      "course files/test\n",
      "course files/Quiz Files/test_1105\n"
     ]
    }
   ],
   "source": [
    "for f in course.get_folders():\n",
    "    print(f)"
   ]
  },
  {
   "cell_type": "code",
   "execution_count": 79,
   "metadata": {},
   "outputs": [
    {
     "data": {
      "text/plain": [
       "Folder(_requester=<canvasapi.requester.Requester object at 0x1070378d0>, id=153673, name=test, full_name=course files/test, context_id=4258, context_type=Course, parent_folder_id=31992, created_at=2019-02-12T17:19:55Z, created_at_date=2019-02-12 17:19:55+00:00, updated_at=2019-02-12T17:19:55Z, updated_at_date=2019-02-12 17:19:55+00:00, lock_at=None, unlock_at=None, position=11, locked=False, folders_url=https://uio.instructure.com/api/v1/folders/153673/folders, files_url=https://uio.instructure.com/api/v1/folders/153673/files, files_count=0, folders_count=0, hidden=None, locked_for_user=False, hidden_for_user=False, for_submissions=False, can_upload=True)"
      ]
     },
     "execution_count": 79,
     "metadata": {},
     "output_type": "execute_result"
    }
   ],
   "source": [
    "course.create_folder('test', parent_folder_path = '/')\n",
    "#course.create_folder('test/inner_test', parent_folder_path = '/')"
   ]
  },
  {
   "cell_type": "code",
   "execution_count": 80,
   "metadata": {},
   "outputs": [
    {
     "name": "stdout",
     "output_type": "stream",
     "text": [
      "course files --> course files\n",
      "course files/course_image --> course files/course_image\n",
      "course files/Quiz Files --> course files/Quiz Files\n",
      "course files/quizzes --> course files/quizzes\n",
      "course files/Quiz Files/test_1105/quizzes --> course files/Quiz Files/test_1105/quizzes\n",
      "course files/test --> course files/test\n",
      "course files/Quiz Files/test_1105 --> course files/Quiz Files/test_1105\n"
     ]
    }
   ],
   "source": [
    "for f in course.get_folders():\n",
    "    print(f, \"-->\", f.full_name)"
   ]
  },
  {
   "cell_type": "code",
   "execution_count": 81,
   "metadata": {},
   "outputs": [],
   "source": [
    "def folder_exists(course, folder_name):\n",
    "    for folder in course.get_folders():\n",
    "        if folder.full_name == 'course files/' + folder_name:\n",
    "            return True\n",
    "    return False"
   ]
  },
  {
   "cell_type": "code",
   "execution_count": 82,
   "metadata": {},
   "outputs": [
    {
     "data": {
      "text/plain": [
       "True"
      ]
     },
     "execution_count": 82,
     "metadata": {},
     "output_type": "execute_result"
    }
   ],
   "source": [
    "folder_exists(course, 'test')"
   ]
  },
  {
   "cell_type": "code",
   "execution_count": 83,
   "metadata": {},
   "outputs": [
    {
     "data": {
      "text/plain": [
       "False"
      ]
     },
     "execution_count": 83,
     "metadata": {},
     "output_type": "execute_result"
    }
   ],
   "source": [
    "folder_exists(course, 'test_1105')"
   ]
  },
  {
   "cell_type": "code",
   "execution_count": 84,
   "metadata": {},
   "outputs": [
    {
     "data": {
      "text/plain": [
       "True"
      ]
     },
     "execution_count": 84,
     "metadata": {},
     "output_type": "execute_result"
    }
   ],
   "source": [
    "folder_exists(course, 'Quiz Files/test_1105/quizzes')"
   ]
  },
  {
   "cell_type": "code",
   "execution_count": 85,
   "metadata": {},
   "outputs": [
    {
     "data": {
      "text/plain": [
       "True"
      ]
     },
     "execution_count": 85,
     "metadata": {},
     "output_type": "execute_result"
    }
   ],
   "source": [
    "folder_exists(course, 'Quiz Files')"
   ]
  },
  {
   "cell_type": "code",
   "execution_count": 87,
   "metadata": {},
   "outputs": [
    {
     "data": {
      "text/plain": [
       "(True,\n",
       " {'content-type': 'application/x-shellscript',\n",
       "  'created_at': '2019-02-12T17:20:22Z',\n",
       "  'display_name': 'test.sh',\n",
       "  'filename': 'test.sh',\n",
       "  'folder_id': 33322,\n",
       "  'hidden': True,\n",
       "  'hidden_for_user': False,\n",
       "  'id': 278534,\n",
       "  'instfs_uuid': '45e0f3b7-5db4-47a0-b8f0-96a55f3acf91',\n",
       "  'location': 'https://uio.instructure.com/api/v1/files/278534?include%5B%5D=enhanced_preview_url',\n",
       "  'lock_at': None,\n",
       "  'locked': False,\n",
       "  'locked_for_user': False,\n",
       "  'media_entry_id': None,\n",
       "  'mime_class': 'file',\n",
       "  'modified_at': '2019-02-12T17:20:22Z',\n",
       "  'preview_url': '/courses/4258/files/278534/file_preview?annotate=0',\n",
       "  'size': 253,\n",
       "  'thumbnail_url': None,\n",
       "  'unlock_at': None,\n",
       "  'updated_at': '2019-02-12T17:20:22Z',\n",
       "  'url': 'https://uio.instructure.com/files/278534/download?download_frd=1&verifier=947HlAmLimdBnB6K09msO5kcgJ1NmvpxqGlAVUl4',\n",
       "  'uuid': '947HlAmLimdBnB6K09msO5kcgJ1NmvpxqGlAVUl4',\n",
       "  'workflow_state': 'pending_upload'})"
      ]
     },
     "execution_count": 87,
     "metadata": {},
     "output_type": "execute_result"
    }
   ],
   "source": [
    "f.upload('test.sh')"
   ]
  },
  {
   "cell_type": "code",
   "execution_count": 86,
   "metadata": {},
   "outputs": [
    {
     "data": {
      "text/plain": [
       "'test_1105'"
      ]
     },
     "execution_count": 86,
     "metadata": {},
     "output_type": "execute_result"
    }
   ],
   "source": [
    "f.name"
   ]
  },
  {
   "cell_type": "code",
   "execution_count": null,
   "metadata": {},
   "outputs": [],
   "source": []
  }
 ],
 "metadata": {
  "kernelspec": {
   "display_name": "Python 3",
   "language": "python",
   "name": "python3"
  },
  "language_info": {
   "codemirror_mode": {
    "name": "ipython",
    "version": 3
   },
   "file_extension": ".py",
   "mimetype": "text/x-python",
   "name": "python",
   "nbconvert_exporter": "python",
   "pygments_lexer": "ipython3",
   "version": "3.6.8"
  }
 },
 "nbformat": 4,
 "nbformat_minor": 2
}
