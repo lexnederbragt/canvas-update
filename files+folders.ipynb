{
 "cells": [
  {
   "cell_type": "code",
   "execution_count": 1,
   "metadata": {},
   "outputs": [],
   "source": [
    "from api import get_course, split_url"
   ]
  },
  {
   "cell_type": "code",
   "execution_count": 57,
   "metadata": {},
   "outputs": [],
   "source": [
    "url = 'https://uio.instructure.com/courses/5848/pages/testing-canvas-api'\n",
    "url = 'https://uio.instructure.com/courses/4258/pages/jupyter-notebook-og-jupyterhub'\n",
    "config_file = '/Users/alexajo/.config/canvasapi.conf'\n",
    "course =  get_course(url, config_file)"
   ]
  },
  {
   "cell_type": "code",
   "execution_count": 58,
   "metadata": {},
   "outputs": [
    {
     "name": "stdout",
     "output_type": "stream",
     "text": [
      "course files\n",
      "course files/course_image\n",
      "course files/Quiz Files\n",
      "course files/quizzes\n",
      "course files/Quiz Files/test_1105/quizzes\n",
      "course files/test\n",
      "course files/Quiz Files/test_1105\n"
     ]
    }
   ],
   "source": [
    "for f in course.get_folders():\n",
    "    print(f)"
   ]
  },
  {
   "cell_type": "code",
   "execution_count": 6,
   "metadata": {},
   "outputs": [
    {
     "data": {
      "text/plain": [
       "(Folder(_requester=<canvasapi.requester.Requester object at 0x1067b9080>, id=32009, name=course_image, full_name=course files/course_image, context_id=4258, context_type=Course, parent_folder_id=31992, created_at=2018-04-26T08:40:53Z, created_at_date=2018-04-26 08:40:53+00:00, updated_at=2018-06-25T14:08:12Z, updated_at_date=2018-06-25 14:08:12+00:00, lock_at=None, unlock_at=None, position=1, locked=False, folders_url=https://uio.instructure.com/api/v1/folders/32009/folders, files_url=https://uio.instructure.com/api/v1/folders/32009/files, files_count=1, folders_count=0, hidden=None, locked_for_user=False, hidden_for_user=False, for_submissions=False, can_upload=True),\n",
       " Folder(_requester=<canvasapi.requester.Requester object at 0x1067b9080>, id=32009, name=course_image, full_name=course files/course_image, context_id=4258, context_type=Course, parent_folder_id=31992, created_at=2018-04-26T08:40:53Z, created_at_date=2018-04-26 08:40:53+00:00, updated_at=2018-06-25T14:08:12Z, updated_at_date=2018-06-25 14:08:12+00:00, lock_at=None, unlock_at=None, position=1, locked=False, folders_url=https://uio.instructure.com/api/v1/folders/32009/folders, files_url=https://uio.instructure.com/api/v1/folders/32009/files, files_count=1, folders_count=0, hidden=None, locked_for_user=False, hidden_for_user=False, for_submissions=False, can_upload=True))"
      ]
     },
     "execution_count": 6,
     "metadata": {},
     "output_type": "execute_result"
    }
   ],
   "source": [
    "f = course.get_folders()[0]\n",
    "f2 = f = course.get_folders()[1]\n",
    "f, f2"
   ]
  },
  {
   "cell_type": "code",
   "execution_count": 7,
   "metadata": {},
   "outputs": [
    {
     "name": "stdout",
     "output_type": "stream",
     "text": [
      "07.groupslides_5.png\n",
      "07.groupslides_5.png\n",
      "godfather1.jpg\n",
      "kurs-forside.png\n",
      "LogoUIO.JPG\n",
      "topics.png\n",
      "undervisningsplan.pdf\n"
     ]
    }
   ],
   "source": [
    "for f in course.get_files(): print(f)"
   ]
  },
  {
   "cell_type": "code",
   "execution_count": 20,
   "metadata": {},
   "outputs": [
    {
     "name": "stdout",
     "output_type": "stream",
     "text": [
      "course files\n",
      "course files/course_image\n",
      "course files/Quiz Files\n",
      "course files/quizzes\n",
      "course files/Quiz Files/test_1105/quizzes\n",
      "course files/Quiz Files/test_1105\n"
     ]
    }
   ],
   "source": [
    "for f in course.get_folders():\n",
    "    print(f)"
   ]
  },
  {
   "cell_type": "code",
   "execution_count": 23,
   "metadata": {},
   "outputs": [
    {
     "data": {
      "text/plain": [
       "Folder(_requester=<canvasapi.requester.Requester object at 0x1067b9080>, id=153649, name=test 2, full_name=course files/test 2, context_id=4258, context_type=Course, parent_folder_id=31992, created_at=2019-02-12T16:30:53Z, created_at_date=2019-02-12 16:30:53+00:00, updated_at=2019-02-12T16:30:53Z, updated_at_date=2019-02-12 16:30:53+00:00, lock_at=None, unlock_at=None, position=8, locked=False, folders_url=https://uio.instructure.com/api/v1/folders/153649/folders, files_url=https://uio.instructure.com/api/v1/folders/153649/files, files_count=0, folders_count=0, hidden=None, locked_for_user=False, hidden_for_user=False, for_submissions=False, can_upload=True)"
      ]
     },
     "execution_count": 23,
     "metadata": {},
     "output_type": "execute_result"
    }
   ],
   "source": [
    "course.create_folder('test', parent_folder_path = '/')"
   ]
  },
  {
   "cell_type": "code",
   "execution_count": 59,
   "metadata": {},
   "outputs": [
    {
     "name": "stdout",
     "output_type": "stream",
     "text": [
      "course files --> course files\n",
      "course files/course_image --> course files/course_image\n",
      "course files/Quiz Files --> course files/Quiz Files\n",
      "course files/quizzes --> course files/quizzes\n",
      "course files/Quiz Files/test_1105/quizzes --> course files/Quiz Files/test_1105/quizzes\n",
      "course files/test --> course files/test\n",
      "course files/Quiz Files/test_1105 --> course files/Quiz Files/test_1105\n"
     ]
    }
   ],
   "source": [
    "for f in course.get_folders():\n",
    "    print(f, \"-->\", f.full_name)"
   ]
  },
  {
   "cell_type": "code",
   "execution_count": 67,
   "metadata": {},
   "outputs": [],
   "source": [
    "def folder_exists(course, folder_name):\n",
    "    for folder in course.get_folders():\n",
    "        if folder.full_name == 'course files/' + folder_name:\n",
    "            return True\n",
    "    return False"
   ]
  },
  {
   "cell_type": "code",
   "execution_count": 68,
   "metadata": {},
   "outputs": [
    {
     "data": {
      "text/plain": [
       "True"
      ]
     },
     "execution_count": 68,
     "metadata": {},
     "output_type": "execute_result"
    }
   ],
   "source": [
    "folder_exists(course, 'test')"
   ]
  },
  {
   "cell_type": "code",
   "execution_count": 69,
   "metadata": {},
   "outputs": [
    {
     "data": {
      "text/plain": [
       "False"
      ]
     },
     "execution_count": 69,
     "metadata": {},
     "output_type": "execute_result"
    }
   ],
   "source": [
    "folder_exists(course, 'test_1105')"
   ]
  },
  {
   "cell_type": "code",
   "execution_count": 70,
   "metadata": {},
   "outputs": [
    {
     "data": {
      "text/plain": [
       "True"
      ]
     },
     "execution_count": 70,
     "metadata": {},
     "output_type": "execute_result"
    }
   ],
   "source": [
    "folder_exists(course, 'Quiz Files/test_1105/quizzes')"
   ]
  },
  {
   "cell_type": "code",
   "execution_count": 71,
   "metadata": {},
   "outputs": [
    {
     "data": {
      "text/plain": [
       "True"
      ]
     },
     "execution_count": 71,
     "metadata": {},
     "output_type": "execute_result"
    }
   ],
   "source": [
    "folder_exists(course, 'Quiz Files')"
   ]
  },
  {
   "cell_type": "code",
   "execution_count": null,
   "metadata": {},
   "outputs": [],
   "source": []
  }
 ],
 "metadata": {
  "kernelspec": {
   "display_name": "Python 3",
   "language": "python",
   "name": "python3"
  },
  "language_info": {
   "codemirror_mode": {
    "name": "ipython",
    "version": 3
   },
   "file_extension": ".py",
   "mimetype": "text/x-python",
   "name": "python",
   "nbconvert_exporter": "python",
   "pygments_lexer": "ipython3",
   "version": "3.6.8"
  }
 },
 "nbformat": 4,
 "nbformat_minor": 2
}
