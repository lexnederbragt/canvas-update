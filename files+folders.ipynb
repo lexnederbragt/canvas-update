{
 "cells": [
  {
   "cell_type": "code",
   "execution_count": 1,
   "metadata": {},
   "outputs": [],
   "source": [
    "from api import get_course, split_url"
   ]
  },
  {
   "cell_type": "code",
   "execution_count": 2,
   "metadata": {},
   "outputs": [],
   "source": [
    "url = 'https://uio.instructure.com/courses/5848/pages/testing-canvas-api'\n",
    "config_file = '/Users/alexajo/.config/canvasapi.conf'\n",
    "course =  get_course(url, config_file)"
   ]
  },
  {
   "cell_type": "code",
   "execution_count": 19,
   "metadata": {},
   "outputs": [
    {
     "name": "stdout",
     "output_type": "stream",
     "text": [
      "course files/bilder\n",
      "course files\n",
      "course files/course_image\n",
      "course files/Masteroppgave\n",
      "course files/pdf\n",
      "course files/Quiz Files\n",
      "course files/Quiz Files/test_1105/quizzes\n",
      "course files/Quiz Files/test_1105\n",
      "course files/uke01\n",
      "course files/uke02\n",
      "course files/uke03\n",
      "course files/uke04\n",
      "course files/uke05\n",
      "course files/uke06\n",
      "course files/uke07\n",
      "course files/uke09\n",
      "course files/uke10\n",
      "course files/uke11\n",
      "course files/uke12\n",
      "course files/uke13\n",
      "course files/unfiled\n"
     ]
    }
   ],
   "source": [
    "for f in course.get_folders():\n",
    "    print(f)"
   ]
  },
  {
   "cell_type": "code",
   "execution_count": 11,
   "metadata": {},
   "outputs": [
    {
     "data": {
      "text/plain": [
       "(Folder(_requester=<canvasapi.requester.Requester object at 0x105443208>, id=31993, name=course files, full_name=course files, context_id=5848, context_type=Course, parent_folder_id=None, created_at=2018-04-26T08:35:18Z, created_at_date=2018-04-26 08:35:18+00:00, updated_at=2018-08-14T12:54:04Z, updated_at_date=2018-08-14 12:54:04+00:00, lock_at=None, unlock_at=None, position=None, locked=False, folders_url=https://uio.instructure.com/api/v1/folders/31993/folders, files_url=https://uio.instructure.com/api/v1/folders/31993/files, files_count=3, folders_count=18, hidden=None, locked_for_user=False, hidden_for_user=False, for_submissions=False, can_upload=True),\n",
       " Folder(_requester=<canvasapi.requester.Requester object at 0x105443208>, id=31993, name=course files, full_name=course files, context_id=5848, context_type=Course, parent_folder_id=None, created_at=2018-04-26T08:35:18Z, created_at_date=2018-04-26 08:35:18+00:00, updated_at=2018-08-14T12:54:04Z, updated_at_date=2018-08-14 12:54:04+00:00, lock_at=None, unlock_at=None, position=None, locked=False, folders_url=https://uio.instructure.com/api/v1/folders/31993/folders, files_url=https://uio.instructure.com/api/v1/folders/31993/files, files_count=3, folders_count=18, hidden=None, locked_for_user=False, hidden_for_user=False, for_submissions=False, can_upload=True))"
      ]
     },
     "execution_count": 11,
     "metadata": {},
     "output_type": "execute_result"
    }
   ],
   "source": [
    "f = course.get_folders()[0]\n",
    "f2 = f = course.get_folders()[1]\n",
    "f, f2"
   ]
  },
  {
   "cell_type": "code",
   "execution_count": 33,
   "metadata": {},
   "outputs": [
    {
     "name": "stdout",
     "output_type": "stream",
     "text": [
      "01.group.pdf\n",
      "01.laeringsmaal.pdf\n",
      "01.Live-coding_gruppe_4.ipynb\n",
      "01.slides.pdf\n",
      "02.group.pdf\n",
      "02.laeringsmaal.pdf\n",
      "02.Live-coding_gruppe_4.ipynb\n",
      "03.group.pdf\n",
      "03.laeringsmaal.pdf\n",
      "03.Live-coding_gruppe_4.ipynb\n",
      "03.slides.pdf\n",
      "04.group.pdf\n",
      "04.laeringsmaal.pdf\n",
      "04.Live-coding_gruppe_4.ipynb\n",
      "05.group.pdf\n",
      "05.laeringsmaal.pdf\n",
      "05.Live-coding_gruppe_4.ipynb\n",
      "06.group.pdf\n",
      "06.laeringsmaal.pdf\n",
      "06.slides_del1.pdf\n",
      "06.slides_del2.pdf\n",
      "07.group.pdf\n",
      "07.groupslides_5.png\n",
      "07.laeringsmaal.pdf\n",
      "07.Live-coding_gruppe_4.ipynb\n",
      "07.slides.pdf\n",
      "09.group.pdf\n",
      "09.laeringsmaal.pdf\n",
      "09.Live-coding_gruppe_4.ipynb\n",
      "09.slides.pdf\n",
      "10.group.pdf\n",
      "10.laeringsmaal.pdf\n",
      "10.Live-coding_gruppe_4.ipynb\n",
      "10.slides.pdf\n",
      "11.exercises.pdf\n",
      "11.exercises.solutions.pdf\n",
      "11.forelesningsnotat.pdf\n",
      "11.group.pdf\n",
      "11.laeringsmaal.pdf\n",
      "11.live-coding_gruppe_4.ipynb\n",
      "12.group.pdf\n",
      "12.laeringsmaal.pdf\n",
      "12.live-coding-gruppeoppgaver_med_fasit.ipynb\n",
      "13.forelesningsnotat.loesninger.pdf\n",
      "13.forelesningsnotat.pdf\n",
      "13.group.pdf\n",
      "13.laeringsmaal.pdf\n",
      "13.live-coding_gruppe4.ipynb\n",
      "14.lecture.pdf\n",
      "analysis_modeling_biology_python_180817.pdf\n",
      "BioCalculus loesninger gruppearbeid uke 2.pdf\n",
      "BioCalculus loesninger gruppearbeid uke 4.pdf\n",
      "BioCalculus oppgaver gruppearbeid uke 2.pdf\n",
      "BioCalculus oppgaver gruppearbeid uke 4.pdf\n",
      "cheat_sheet.pdf\n",
      "Coding Uke 5 Michelle Gruppe 2 (1).ipynb\n",
      "Control_Panel_JupyterHub.png\n",
      "Detaljerte_læringsmål_for_matematikkdelen_av_BIOS1100_H18.pdf\n",
      "digital-eksamen-okt2016-750px.jpg\n",
      "eksamen.H17.sensorveiledning.ipynb\n",
      "eksamen.H18.solutions.pdf\n",
      "eksamen.H18konte.oppgave6+7+8.solutions.pdf\n",
      "eksamen.H18konte.solutions.pdf\n",
      "extra.exercises.html\n",
      "extra.exercises.pdf\n",
      "extra.exercises.solutions.pdf\n",
      "Forelesningsnotater uke 2.pdf\n",
      "Forelesningsnotater.pdf\n",
      "godfather1.jpg\n",
      "gruppe3_uke10_samkoding_william.ipynb\n",
      "import_pandas.png\n",
      "inspera_eksampel.png\n",
      "kernel_died.png\n",
      "kurs-forside.png\n",
      "kurs-thumb.png\n",
      "live_Svenja_uke12.ipynb\n",
      "livecoding uke 6 onsdag.ipynb\n",
      "livecoding uke 6 tirsdag.ipynb\n",
      "LogoUIO.JPG\n",
      "matplotlib_inline.png\n",
      "Michelle koder uke 6.ipynb\n",
      "Michelle koder uke 7.ipynb\n",
      "Michelle koder uke 9.ipynb\n",
      "Michelle koder uke 11.ipynb\n",
      "Michelle koder uke 13.ipynb\n",
      "Mikkel-live-coding-05-11-2018.ipynb\n",
      "navngitte_kodeelementer.pdf\n",
      "oppgave3_uke12.pdf\n",
      "protein_expression.pdf\n",
      "proveoppgaver_løsninger.pdf\n",
      "proveoppgaver.pdf\n",
      "Quit_JupyterHub.png\n",
      "Samtykkebrev-BIOS1100_spørreskjema-v2.docx\n",
      "slett_notebook.png\n",
      "Steg for steg av while løkke.ipynb\n",
      "Strek til strek matrix-1.png\n",
      "Strek til strek matrix.png\n",
      "Studieteknikk programseminar Sundvollen 2018.pdf\n",
      "topics.png\n",
      "Uke9_Svenja_livecoding.ipynb\n",
      "undervisningsplan.pdf\n"
     ]
    }
   ],
   "source": [
    "for f in course.get_files(): print(f)"
   ]
  },
  {
   "cell_type": "code",
   "execution_count": 29,
   "metadata": {},
   "outputs": [
    {
     "data": {
      "text/plain": [
       "\u001b[0;31mSignature:\u001b[0m \u001b[0mcourse\u001b[0m\u001b[0;34m.\u001b[0m\u001b[0mget_folder\u001b[0m\u001b[0;34m(\u001b[0m\u001b[0mfolder\u001b[0m\u001b[0;34m)\u001b[0m\u001b[0;34m\u001b[0m\u001b[0;34m\u001b[0m\u001b[0m\n",
       "\u001b[0;31mDocstring:\u001b[0m\n",
       "Returns the details for a course folder\n",
       "\n",
       ":calls: `GET /api/v1/courses/:course_id/folders/:id         <https://canvas.instructure.com/doc/api/files.html#method.folders.show>`_\n",
       "\n",
       ":param folder: The object or ID of the folder to retrieve.\n",
       ":type folder: :class:`canvasapi.folder.Folder` or int\n",
       "\n",
       ":rtype: :class:`canvasapi.folder.Folder`\n",
       "\u001b[0;31mFile:\u001b[0m      /anaconda3/lib/python3.6/site-packages/canvasapi/course.py\n",
       "\u001b[0;31mType:\u001b[0m      method\n"
      ]
     },
     "metadata": {},
     "output_type": "display_data"
    }
   ],
   "source": [
    "?course.get_folder"
   ]
  },
  {
   "cell_type": "code",
   "execution_count": 15,
   "metadata": {},
   "outputs": [
    {
     "data": {
      "text/plain": [
       "[File(_requester=<canvasapi.requester.Requester object at 0x105443208>, id=213159, uuid=C8ZnyTyECPFifeDkESYDwKTuCc73eG3yFvu7aoAT, folder_id=31993, display_name=14.lecture.pdf, filename=14.lecture.pdf, workflow_state=processing, content-type=application/pdf, url=https://uio.instructure.com/files/213159/download?download_frd=1&verifier=C8ZnyTyECPFifeDkESYDwKTuCc73eG3yFvu7aoAT, size=609745, created_at=2018-11-22T13:28:10Z, created_at_date=2018-11-22 13:28:10+00:00, updated_at=2019-01-14T13:52:36Z, updated_at_date=2019-01-14 13:52:36+00:00, unlock_at=None, locked=False, hidden=False, lock_at=None, hidden_for_user=False, thumbnail_url=None, modified_at=2018-11-22T13:28:10Z, modified_at_date=2018-11-22 13:28:10+00:00, mime_class=pdf, media_entry_id=None, locked_for_user=False),\n",
       " File(_requester=<canvasapi.requester.Requester object at 0x105443208>, id=179890, uuid=er2aTx3RsHkNKcmvQ4Cs2DXFpJtnRSHsQNThnax2, folder_id=31993, display_name=gruppe3_uke10_samkoding_william.ipynb, filename=gruppe3_uke10_samkoding_william.ipynb, workflow_state=processed, content-type=binary/octet-stream, url=https://uio.instructure.com/files/179890/download?download_frd=1&verifier=er2aTx3RsHkNKcmvQ4Cs2DXFpJtnRSHsQNThnax2, size=24213, created_at=2018-10-29T15:13:14Z, created_at_date=2018-10-29 15:13:14+00:00, updated_at=2019-01-14T13:52:36Z, updated_at_date=2019-01-14 13:52:36+00:00, unlock_at=None, locked=False, hidden=False, lock_at=None, hidden_for_user=False, thumbnail_url=None, modified_at=2018-10-29T15:13:14Z, modified_at_date=2018-10-29 15:13:14+00:00, mime_class=file, media_entry_id=None, locked_for_user=False),\n",
       " File(_requester=<canvasapi.requester.Requester object at 0x105443208>, id=201464, uuid=uXKomrOCQBb181XwK1GIdEjs28gd57jhLrbYfC1p, folder_id=31993, display_name=oppgave3_uke12.pdf, filename=oppgave3_uke12.pdf, workflow_state=processing, content-type=application/pdf, url=https://uio.instructure.com/files/201464/download?download_frd=1&verifier=uXKomrOCQBb181XwK1GIdEjs28gd57jhLrbYfC1p, size=32974, created_at=2018-11-12T14:43:05Z, created_at_date=2018-11-12 14:43:05+00:00, updated_at=2019-01-14T13:52:36Z, updated_at_date=2019-01-14 13:52:36+00:00, unlock_at=None, locked=False, hidden=False, lock_at=None, hidden_for_user=False, thumbnail_url=None, modified_at=2018-11-12T14:43:05Z, modified_at_date=2018-11-12 14:43:05+00:00, mime_class=pdf, media_entry_id=None, locked_for_user=False)]"
      ]
     },
     "execution_count": 15,
     "metadata": {},
     "output_type": "execute_result"
    }
   ],
   "source": [
    "[i for i in f.get_files()]"
   ]
  },
  {
   "cell_type": "code",
   "execution_count": 5,
   "metadata": {},
   "outputs": [],
   "source": [
    "url = 'https://uio.instructure.com/courses/5848/files/folder/uke02'"
   ]
  },
  {
   "cell_type": "code",
   "execution_count": 6,
   "metadata": {},
   "outputs": [
    {
     "data": {
      "text/plain": [
       "Folder(_requester=<canvasapi.requester.Requester object at 0x105443208>, id=87930, name=bilder, full_name=course files/bilder, context_id=5848, context_type=Course, parent_folder_id=31993, created_at=2018-09-14T06:51:57Z, created_at_date=2018-09-14 06:51:57+00:00, updated_at=2018-09-14T06:51:57Z, updated_at_date=2018-09-14 06:51:57+00:00, lock_at=None, unlock_at=None, position=8, locked=False, folders_url=https://uio.instructure.com/api/v1/folders/87930/folders, files_url=https://uio.instructure.com/api/v1/folders/87930/files, files_count=11, folders_count=0, hidden=None, locked_for_user=False, hidden_for_user=False, for_submissions=False, can_upload=True)"
      ]
     },
     "execution_count": 6,
     "metadata": {},
     "output_type": "execute_result"
    }
   ],
   "source": [
    "course.get_folder(f)"
   ]
  },
  {
   "cell_type": "code",
   "execution_count": null,
   "metadata": {},
   "outputs": [],
   "source": []
  }
 ],
 "metadata": {
  "kernelspec": {
   "display_name": "Python 3",
   "language": "python",
   "name": "python3"
  },
  "language_info": {
   "codemirror_mode": {
    "name": "ipython",
    "version": 3
   },
   "file_extension": ".py",
   "mimetype": "text/x-python",
   "name": "python",
   "nbconvert_exporter": "python",
   "pygments_lexer": "ipython3",
   "version": "3.6.8"
  }
 },
 "nbformat": 4,
 "nbformat_minor": 2
}
